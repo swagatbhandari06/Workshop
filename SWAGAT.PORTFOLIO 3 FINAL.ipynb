{
 "cells": [
  {
   "cell_type": "markdown",
   "metadata": {
    "id": "n0ZKqZaTWkpg"
   },
   "source": [
    "# Portfolio Part 3 - Analysis of Mobile Price Data (2024 S1)"
   ]
  },
  {
   "cell_type": "markdown",
   "metadata": {
    "id": "O9R7rVmlXaMX"
   },
   "source": [
    "In this Portfolio task, you will work on a new dataset named 'Mobile Price Data', it contains numerous details about mobile phone hardware, specifications, and prices. Your main task is to train classification models to predict **mobile phone prices** ('price range' in the dataset)and evaluate the strengths and weaknesses of these models."
   ]
  },
  {
   "cell_type": "markdown",
   "metadata": {
    "id": "zHC8wWkVZVBG"
   },
   "source": [
    "Here's the explanation of each column:"
   ]
  },
  {
   "cell_type": "markdown",
   "metadata": {
    "id": "_O1tyfN3ZvE-"
   },
   "source": [
    "|Column|Meaning|\n",
    "|:-----:|:-----:|\n",
    "|battery power|Total energy a battery can store in one time measured in mAh|\n",
    "|blue|Has bluetooth or not|\n",
    "|clock speed|speed at which microprocessor executes instructions|\n",
    "|dual sim|Has dual sim support or not|\n",
    "|fc|Front Camera mega pixels|\n",
    "|four g|Has 4G or not|\n",
    "|int memory|Internal Memory in Gigabytes|\n",
    "|m dep|Mobile Depth in cm|\n",
    "|mobile wt|Weight of mobile phone|\n",
    "|n cores|Number of cores of processor|\n",
    "|pc|Primary Camera mega pixels|\n",
    "|px height|Pixel Resolution Height|\n",
    "|px width|Pixel Resolution Width|\n",
    "|ram|Random Access Memory in Mega Bytes|\n",
    "|sc h|Screen Height of mobile in cm|\n",
    "|sc w|Screen Width of mobile in cm|\n",
    "|talk time|longest time that a single battery charge will last when you are|\n",
    "|three g|Has 3G or not|\n",
    "|touch screen|Has touch screen or not|\n",
    "|wifi|Has wifi or not|\n",
    "|price range|This is the target variable with value of 0(low cost), 1(medium cost), 2(high cost) and 3(very high cost)|"
   ]
  },
  {
   "cell_type": "markdown",
   "metadata": {
    "id": "fmFqaGooclqa"
   },
   "source": [
    "Blue, dual sim, four g, three g, touch screen, and wifi are all binary attributes, 0 for not and 1 for yes."
   ]
  },
  {
   "cell_type": "markdown",
   "metadata": {
    "id": "o0VDQbC-es_8"
   },
   "source": [
    "Your high level goal in this notebook is to build and evaluate predictive models for 'price range' from other available features. More specifically, you need to **complete the following major steps**:\n",
    "\n",
    "1. ***Explore the data*** and ***clean the data if necessary***. For example, remove abnormal instanaces and replace missing values.\n",
    "\n",
    "2. ***Study the correlation*** between 'price range' with other features. And ***select the variables*** that you think are helpful for predicting the price range. We do not limit the number of variables.\n",
    "\n",
    "3. ***Split the dataset*** (Trainging set : Test set = 8 : 2)\n",
    "\n",
    "4. ***Train a logistic regression model*** to predict 'price range' based on the selected features (from the second step). ***Calculate the accuracy*** of your model. (You are required to report the accuracy from both training set and test set.) ***Explain your model and evaluate its performance*** (Is the model performing well? If yes, what factors might be contributing to the good performance of your model? If not, how can improvements be made?).\n",
    "\n",
    "5. ***Train a KNN model*** to predict 'price range' based on the selected features (you can use the features selected from the second step and set K with an ad-hoc manner in this step. ***Calculate the accuracy*** of your model. (You are required to report the accuracy from both training set and test set.)\n",
    "\n",
    "6. ***Tune the hyper-parameter K*** in KNN (Hints: GridsearchCV), ***visualize the results***, and ***explain*** how K influences the prediction performance.\n",
    "\n",
    "  Hints for visualization: You can use line chart to visualize K and mean accuracy scores on test set."
   ]
  },
  {
   "cell_type": "markdown",
   "metadata": {
    "id": "RAcIxzIldzSZ"
   },
   "source": [
    "Note 1: In this assignment, we no longer provide specific guidance and templates for each sub task. You should learn how to properly comment your notebook by yourself to make your notebook file readable.\n",
    "\n",
    "Note 2: You will not being evaluated on the accuracy of the model but on the process that you use to generate it and your explanation."
   ]
  },
  {
   "cell_type": "code",
   "execution_count": 8,
   "metadata": {
    "id": "UpCBB45NV0p_"
   },
   "outputs": [],
   "source": [
    "import pandas as pd\n",
    "import numpy as np\n",
    "\n",
    "from sklearn.metrics import pairwise_distances\n",
    "from scipy.cluster.hierarchy import linkage, dendrogram, cut_tree\n",
    "from scipy.spatial.distance import pdist \n",
    "\n",
    "import matplotlib.pyplot as plt\n",
    "from sklearn.model_selection import train_test_split\n",
    "%matplotlib inline\n",
    "\n",
    "# Visualize feature correlations (example using seaborn heatmap)\n",
    "import seaborn as sns\n",
    "\n",
    "# Log_r\n",
    "from sklearn.linear_model import LogisticRegression\n",
    "from sklearn.metrics import accuracy_score\n",
    "\n",
    "# Tuning\n",
    "from sklearn.model_selection import GridSearchCV"
   ]
  },
  {
   "cell_type": "code",
   "execution_count": 16,
   "metadata": {},
   "outputs": [],
   "source": [
    "file_path = \"Mobile_Price_Data.csv\"\n",
    "raw_df = pd.read_csv(file_path)"
   ]
  },
  {
   "cell_type": "code",
   "execution_count": 17,
   "metadata": {},
   "outputs": [
    {
     "data": {
      "text/html": [
       "<div>\n",
       "<style scoped>\n",
       "    .dataframe tbody tr th:only-of-type {\n",
       "        vertical-align: middle;\n",
       "    }\n",
       "\n",
       "    .dataframe tbody tr th {\n",
       "        vertical-align: top;\n",
       "    }\n",
       "\n",
       "    .dataframe thead th {\n",
       "        text-align: right;\n",
       "    }\n",
       "</style>\n",
       "<table border=\"1\" class=\"dataframe\">\n",
       "  <thead>\n",
       "    <tr style=\"text-align: right;\">\n",
       "      <th></th>\n",
       "      <th>battery_power</th>\n",
       "      <th>blue</th>\n",
       "      <th>clock_speed</th>\n",
       "      <th>dual_sim</th>\n",
       "      <th>fc</th>\n",
       "      <th>four_g</th>\n",
       "      <th>int_memory</th>\n",
       "      <th>m_dep</th>\n",
       "      <th>mobile_wt</th>\n",
       "      <th>n_cores</th>\n",
       "      <th>...</th>\n",
       "      <th>px_height</th>\n",
       "      <th>px_width</th>\n",
       "      <th>ram</th>\n",
       "      <th>sc_h</th>\n",
       "      <th>sc_w</th>\n",
       "      <th>talk_time</th>\n",
       "      <th>three_g</th>\n",
       "      <th>touch_screen</th>\n",
       "      <th>wifi</th>\n",
       "      <th>price_range</th>\n",
       "    </tr>\n",
       "  </thead>\n",
       "  <tbody>\n",
       "    <tr>\n",
       "      <th>0</th>\n",
       "      <td>842</td>\n",
       "      <td>0</td>\n",
       "      <td>2.2</td>\n",
       "      <td>0</td>\n",
       "      <td>1</td>\n",
       "      <td>0</td>\n",
       "      <td>7.0</td>\n",
       "      <td>0.6</td>\n",
       "      <td>188</td>\n",
       "      <td>2</td>\n",
       "      <td>...</td>\n",
       "      <td>20</td>\n",
       "      <td>756.0</td>\n",
       "      <td>2549.0</td>\n",
       "      <td>9</td>\n",
       "      <td>7</td>\n",
       "      <td>19</td>\n",
       "      <td>0.0</td>\n",
       "      <td>0</td>\n",
       "      <td>1</td>\n",
       "      <td>1</td>\n",
       "    </tr>\n",
       "    <tr>\n",
       "      <th>1</th>\n",
       "      <td>1021</td>\n",
       "      <td>1</td>\n",
       "      <td>0.5</td>\n",
       "      <td>1</td>\n",
       "      <td>0</td>\n",
       "      <td>1</td>\n",
       "      <td>53.0</td>\n",
       "      <td>0.7</td>\n",
       "      <td>136</td>\n",
       "      <td>3</td>\n",
       "      <td>...</td>\n",
       "      <td>905</td>\n",
       "      <td>1988.0</td>\n",
       "      <td>2631.0</td>\n",
       "      <td>17</td>\n",
       "      <td>3</td>\n",
       "      <td>7</td>\n",
       "      <td>1.0</td>\n",
       "      <td>1</td>\n",
       "      <td>0</td>\n",
       "      <td>2</td>\n",
       "    </tr>\n",
       "    <tr>\n",
       "      <th>2</th>\n",
       "      <td>563</td>\n",
       "      <td>1</td>\n",
       "      <td>0.5</td>\n",
       "      <td>1</td>\n",
       "      <td>2</td>\n",
       "      <td>1</td>\n",
       "      <td>41.0</td>\n",
       "      <td>0.9</td>\n",
       "      <td>145</td>\n",
       "      <td>5</td>\n",
       "      <td>...</td>\n",
       "      <td>1263</td>\n",
       "      <td>1716.0</td>\n",
       "      <td>2603.0</td>\n",
       "      <td>11</td>\n",
       "      <td>2</td>\n",
       "      <td>9</td>\n",
       "      <td>1.0</td>\n",
       "      <td>1</td>\n",
       "      <td>0</td>\n",
       "      <td>2</td>\n",
       "    </tr>\n",
       "    <tr>\n",
       "      <th>3</th>\n",
       "      <td>615</td>\n",
       "      <td>1</td>\n",
       "      <td>2.5</td>\n",
       "      <td>0</td>\n",
       "      <td>0</td>\n",
       "      <td>0</td>\n",
       "      <td>10.0</td>\n",
       "      <td>0.8</td>\n",
       "      <td>131</td>\n",
       "      <td>6</td>\n",
       "      <td>...</td>\n",
       "      <td>1216</td>\n",
       "      <td>1786.0</td>\n",
       "      <td>2769.0</td>\n",
       "      <td>16</td>\n",
       "      <td>8</td>\n",
       "      <td>11</td>\n",
       "      <td>1.0</td>\n",
       "      <td>0</td>\n",
       "      <td>0</td>\n",
       "      <td>2</td>\n",
       "    </tr>\n",
       "    <tr>\n",
       "      <th>4</th>\n",
       "      <td>1821</td>\n",
       "      <td>1</td>\n",
       "      <td>1.2</td>\n",
       "      <td>0</td>\n",
       "      <td>13</td>\n",
       "      <td>1</td>\n",
       "      <td>44.0</td>\n",
       "      <td>0.6</td>\n",
       "      <td>141</td>\n",
       "      <td>2</td>\n",
       "      <td>...</td>\n",
       "      <td>1208</td>\n",
       "      <td>1212.0</td>\n",
       "      <td>1411.0</td>\n",
       "      <td>8</td>\n",
       "      <td>2</td>\n",
       "      <td>15</td>\n",
       "      <td>1.0</td>\n",
       "      <td>1</td>\n",
       "      <td>0</td>\n",
       "      <td>1</td>\n",
       "    </tr>\n",
       "  </tbody>\n",
       "</table>\n",
       "<p>5 rows × 21 columns</p>\n",
       "</div>"
      ],
      "text/plain": [
       "   battery_power  blue  clock_speed  dual_sim  fc  four_g  int_memory  m_dep  \\\n",
       "0            842     0          2.2         0   1       0         7.0    0.6   \n",
       "1           1021     1          0.5         1   0       1        53.0    0.7   \n",
       "2            563     1          0.5         1   2       1        41.0    0.9   \n",
       "3            615     1          2.5         0   0       0        10.0    0.8   \n",
       "4           1821     1          1.2         0  13       1        44.0    0.6   \n",
       "\n",
       "   mobile_wt  n_cores  ...  px_height  px_width     ram  sc_h  sc_w  \\\n",
       "0        188        2  ...         20     756.0  2549.0     9     7   \n",
       "1        136        3  ...        905    1988.0  2631.0    17     3   \n",
       "2        145        5  ...       1263    1716.0  2603.0    11     2   \n",
       "3        131        6  ...       1216    1786.0  2769.0    16     8   \n",
       "4        141        2  ...       1208    1212.0  1411.0     8     2   \n",
       "\n",
       "   talk_time  three_g  touch_screen  wifi  price_range  \n",
       "0         19      0.0             0     1            1  \n",
       "1          7      1.0             1     0            2  \n",
       "2          9      1.0             1     0            2  \n",
       "3         11      1.0             0     0            2  \n",
       "4         15      1.0             1     0            1  \n",
       "\n",
       "[5 rows x 21 columns]"
      ]
     },
     "execution_count": 17,
     "metadata": {},
     "output_type": "execute_result"
    }
   ],
   "source": [
    "raw_df.head()"
   ]
  },
  {
   "cell_type": "code",
   "execution_count": 18,
   "metadata": {},
   "outputs": [
    {
     "name": "stdout",
     "output_type": "stream",
     "text": [
      "<class 'pandas.core.frame.DataFrame'>\n",
      "RangeIndex: 2000 entries, 0 to 1999\n",
      "Data columns (total 21 columns):\n",
      " #   Column         Non-Null Count  Dtype  \n",
      "---  ------         --------------  -----  \n",
      " 0   battery_power  2000 non-null   int64  \n",
      " 1   blue           2000 non-null   int64  \n",
      " 2   clock_speed    2000 non-null   float64\n",
      " 3   dual_sim       2000 non-null   int64  \n",
      " 4   fc             2000 non-null   int64  \n",
      " 5   four_g         2000 non-null   int64  \n",
      " 6   int_memory     1999 non-null   float64\n",
      " 7   m_dep          1999 non-null   float64\n",
      " 8   mobile_wt      2000 non-null   int64  \n",
      " 9   n_cores        2000 non-null   int64  \n",
      " 10  pc             2000 non-null   int64  \n",
      " 11  px_height      2000 non-null   int64  \n",
      " 12  px_width       1999 non-null   float64\n",
      " 13  ram            1999 non-null   float64\n",
      " 14  sc_h           2000 non-null   int64  \n",
      " 15  sc_w           2000 non-null   int64  \n",
      " 16  talk_time      2000 non-null   int64  \n",
      " 17  three_g        1999 non-null   float64\n",
      " 18  touch_screen   2000 non-null   int64  \n",
      " 19  wifi           2000 non-null   int64  \n",
      " 20  price_range    2000 non-null   int64  \n",
      "dtypes: float64(6), int64(15)\n",
      "memory usage: 328.3 KB\n"
     ]
    }
   ],
   "source": [
    "# Show basic information about the dataset.\n",
    "raw_df.info()\n",
    "raw_df.describe()\n",
    "# Display the null values in each column of the dataset.\n",
    "raw_df.isnull().sum()\n",
    "# Deal with missing values if needed.\n",
    "raw_df.fillna(value=0, inplace=True)"
   ]
  },
  {
   "cell_type": "code",
   "execution_count": 19,
   "metadata": {},
   "outputs": [
    {
     "data": {
      "text/plain": [
       "2000"
      ]
     },
     "execution_count": 19,
     "metadata": {},
     "output_type": "execute_result"
    }
   ],
   "source": [
    "# Length of the raw dataset\n",
    "len(raw_df)"
   ]
  },
  {
   "cell_type": "code",
   "execution_count": 20,
   "metadata": {},
   "outputs": [],
   "source": [
    "# Cleaned Dataset\n",
    "clean_df = raw_df.dropna()"
   ]
  },
  {
   "cell_type": "code",
   "execution_count": 21,
   "metadata": {},
   "outputs": [
    {
     "name": "stdout",
     "output_type": "stream",
     "text": [
      "      battery_power  blue  clock_speed  dual_sim  fc  four_g  int_memory  \\\n",
      "0               842     0          2.2         0   1       0         7.0   \n",
      "1              1021     1          0.5         1   0       1        53.0   \n",
      "2               563     1          0.5         1   2       1        41.0   \n",
      "3               615     1          2.5         0   0       0        10.0   \n",
      "4              1821     1          1.2         0  13       1        44.0   \n",
      "...             ...   ...          ...       ...  ..     ...         ...   \n",
      "1995            794     1          0.5         1   0       1         2.0   \n",
      "1996           1965     1          2.6         1   0       0        39.0   \n",
      "1997           1911     0          0.9         1   1       1        36.0   \n",
      "1998           1512     0          0.9         0   4       1        46.0   \n",
      "1999            510     1          2.0         1   5       1        45.0   \n",
      "\n",
      "      m_dep  mobile_wt  n_cores  ...  px_height  px_width     ram  sc_h  sc_w  \\\n",
      "0       0.6        188        2  ...         20     756.0  2549.0     9     7   \n",
      "1       0.7        136        3  ...        905    1988.0  2631.0    17     3   \n",
      "2       0.9        145        5  ...       1263    1716.0  2603.0    11     2   \n",
      "3       0.8        131        6  ...       1216    1786.0  2769.0    16     8   \n",
      "4       0.6        141        2  ...       1208    1212.0  1411.0     8     2   \n",
      "...     ...        ...      ...  ...        ...       ...     ...   ...   ...   \n",
      "1995    0.8        106        6  ...       1222    1890.0   668.0    13     4   \n",
      "1996    0.2        187        4  ...        915    1965.0  2032.0    11    10   \n",
      "1997    0.7        108        8  ...        868    1632.0  3057.0     9     1   \n",
      "1998    0.1        145        5  ...        336     670.0   869.0    18    10   \n",
      "1999    0.9        168        6  ...        483     754.0  3919.0    19     4   \n",
      "\n",
      "      talk_time  three_g  touch_screen  wifi  price_range  \n",
      "0            19      0.0             0     1            1  \n",
      "1             7      1.0             1     0            2  \n",
      "2             9      1.0             1     0            2  \n",
      "3            11      1.0             0     0            2  \n",
      "4            15      1.0             1     0            1  \n",
      "...         ...      ...           ...   ...          ...  \n",
      "1995         19      1.0             1     0            0  \n",
      "1996         16      1.0             1     1            2  \n",
      "1997          5      1.0             1     0            3  \n",
      "1998         19      1.0             1     1            0  \n",
      "1999          2      1.0             1     1            3  \n",
      "\n",
      "[2000 rows x 21 columns]\n"
     ]
    }
   ],
   "source": [
    "# Display of the cleaned dataset \n",
    "print(clean_df)"
   ]
  },
  {
   "cell_type": "markdown",
   "metadata": {},
   "source": [
    "#### Corelation Analysis\n"
   ]
  },
  {
   "cell_type": "code",
   "execution_count": 22,
   "metadata": {},
   "outputs": [],
   "source": [
    "\n",
    "correlation_values = clean_df.corr()"
   ]
  },
  {
   "cell_type": "code",
   "execution_count": 23,
   "metadata": {},
   "outputs": [
    {
     "name": "stdout",
     "output_type": "stream",
     "text": [
      "               battery_power      blue  clock_speed  dual_sim        fc  \\\n",
      "battery_power       1.000000  0.011252     0.011482 -0.041847  0.033334   \n",
      "blue                0.011252  1.000000     0.021419  0.035198  0.003593   \n",
      "clock_speed         0.011482  0.021419     1.000000 -0.001315 -0.000434   \n",
      "dual_sim           -0.041847  0.035198    -0.001315  1.000000 -0.029123   \n",
      "fc                  0.033334  0.003593    -0.000434 -0.029123  1.000000   \n",
      "four_g              0.015665  0.013443    -0.043073  0.003187 -0.016560   \n",
      "int_memory         -0.005663  0.042662     0.005655 -0.014129 -0.032854   \n",
      "m_dep               0.035540  0.005420    -0.013640 -0.023491 -0.004247   \n",
      "mobile_wt           0.001844 -0.008605     0.012350 -0.008979  0.023618   \n",
      "n_cores            -0.029727  0.036161    -0.005724 -0.024658 -0.013356   \n",
      "pc                  0.031441 -0.009952    -0.005245 -0.017143  0.644595   \n",
      "px_height           0.014901 -0.006872    -0.014523 -0.020875 -0.009990   \n",
      "px_width           -0.010545 -0.040134    -0.007793  0.012959 -0.003848   \n",
      "ram                 0.000787  0.025343     0.002512  0.040078  0.015827   \n",
      "sc_h               -0.029959 -0.002952    -0.029078 -0.011949 -0.011014   \n",
      "sc_w               -0.021421  0.000613    -0.007378 -0.016666 -0.012373   \n",
      "talk_time           0.052510  0.013934    -0.011432 -0.039404 -0.006829   \n",
      "three_g             0.010931 -0.029054    -0.046943 -0.015148  0.002685   \n",
      "touch_screen       -0.010516  0.010061     0.019756 -0.017117 -0.014828   \n",
      "wifi               -0.008343 -0.021863    -0.024471  0.022740  0.020085   \n",
      "price_range         0.200723  0.020573    -0.006606  0.017444  0.021998   \n",
      "\n",
      "                 four_g  int_memory     m_dep  mobile_wt   n_cores  ...  \\\n",
      "battery_power  0.015665   -0.005663  0.035540   0.001844 -0.029727  ...   \n",
      "blue           0.013443    0.042662  0.005420  -0.008605  0.036161  ...   \n",
      "clock_speed   -0.043073    0.005655 -0.013640   0.012350 -0.005724  ...   \n",
      "dual_sim       0.003187   -0.014129 -0.023491  -0.008979 -0.024658  ...   \n",
      "fc            -0.016560   -0.032854 -0.004247   0.023618 -0.013356  ...   \n",
      "four_g         1.000000    0.007235 -0.000375  -0.016537 -0.029706  ...   \n",
      "int_memory     0.007235    1.000000  0.006356  -0.035389 -0.026630  ...   \n",
      "m_dep         -0.000375    0.006356  1.000000   0.024067 -0.005005  ...   \n",
      "mobile_wt     -0.016537   -0.035389  0.024067   1.000000 -0.018989  ...   \n",
      "n_cores       -0.029706   -0.026630 -0.005005  -0.018989  1.000000  ...   \n",
      "pc            -0.005598   -0.035281  0.025336   0.018844 -0.001193  ...   \n",
      "px_height     -0.019236    0.010069  0.023160   0.000939 -0.006872  ...   \n",
      "px_width       0.008818   -0.008083  0.020203  -0.001663  0.024731  ...   \n",
      "ram            0.008323    0.031182 -0.010641  -0.003121  0.005085  ...   \n",
      "sc_h           0.027166    0.037148 -0.026880  -0.033855 -0.000315  ...   \n",
      "sc_w           0.037005    0.013037 -0.021319  -0.020761  0.025826  ...   \n",
      "talk_time     -0.046628   -0.001122  0.019028   0.006209  0.013148  ...   \n",
      "three_g        0.582703   -0.009168 -0.012008   0.002817 -0.013943  ...   \n",
      "touch_screen   0.016758   -0.028495 -0.004015  -0.014368  0.023774  ...   \n",
      "wifi          -0.017620    0.005496 -0.026933  -0.000409 -0.009964  ...   \n",
      "price_range    0.014772    0.043740 -0.001008  -0.030302  0.004399  ...   \n",
      "\n",
      "               px_height  px_width       ram      sc_h      sc_w  talk_time  \\\n",
      "battery_power   0.014901 -0.010545  0.000787 -0.029959 -0.021421   0.052510   \n",
      "blue           -0.006872 -0.040134  0.025343 -0.002952  0.000613   0.013934   \n",
      "clock_speed    -0.014523 -0.007793  0.002512 -0.029078 -0.007378  -0.011432   \n",
      "dual_sim       -0.020875  0.012959  0.040078 -0.011949 -0.016666  -0.039404   \n",
      "fc             -0.009990 -0.003848  0.015827 -0.011014 -0.012373  -0.006829   \n",
      "four_g         -0.019236  0.008818  0.008323  0.027166  0.037005  -0.046628   \n",
      "int_memory      0.010069 -0.008083  0.031182  0.037148  0.013037  -0.001122   \n",
      "m_dep           0.023160  0.020203 -0.010641 -0.026880 -0.021319   0.019028   \n",
      "mobile_wt       0.000939 -0.001663 -0.003121 -0.033855 -0.020761   0.006209   \n",
      "n_cores        -0.006872  0.024731  0.005085 -0.000315  0.025826   0.013148   \n",
      "pc             -0.018465  0.006357  0.028942  0.004938 -0.023819   0.014657   \n",
      "px_height       1.000000  0.510002 -0.019858  0.059615  0.043038  -0.010645   \n",
      "px_width        0.510002  1.000000  0.006814  0.020390  0.035470   0.008166   \n",
      "ram            -0.019858  0.006814  1.000000  0.015821  0.035266   0.012415   \n",
      "sc_h            0.059615  0.020390  0.015821  1.000000  0.506144  -0.017335   \n",
      "sc_w            0.043038  0.035470  0.035266  0.506144  1.000000  -0.022821   \n",
      "talk_time      -0.010645  0.008166  0.012415 -0.017335 -0.022821   1.000000   \n",
      "three_g        -0.032124 -0.000491  0.015962  0.010718  0.030318  -0.042870   \n",
      "touch_screen    0.021891 -0.002944 -0.029446 -0.020023  0.012720   0.017196   \n",
      "wifi            0.051824  0.028948  0.021687  0.025929  0.035423  -0.029504   \n",
      "price_range     0.148858  0.167253  0.916603  0.022986  0.038711   0.021859   \n",
      "\n",
      "                three_g  touch_screen      wifi  price_range  \n",
      "battery_power  0.010931     -0.010516 -0.008343     0.200723  \n",
      "blue          -0.029054      0.010061 -0.021863     0.020573  \n",
      "clock_speed   -0.046943      0.019756 -0.024471    -0.006606  \n",
      "dual_sim      -0.015148     -0.017117  0.022740     0.017444  \n",
      "fc             0.002685     -0.014828  0.020085     0.021998  \n",
      "four_g         0.582703      0.016758 -0.017620     0.014772  \n",
      "int_memory    -0.009168     -0.028495  0.005496     0.043740  \n",
      "m_dep         -0.012008     -0.004015 -0.026933    -0.001008  \n",
      "mobile_wt      0.002817     -0.014368 -0.000409    -0.030302  \n",
      "n_cores       -0.013943      0.023774 -0.009964     0.004399  \n",
      "pc            -0.001337     -0.008742  0.005389     0.033599  \n",
      "px_height     -0.032124      0.021891  0.051824     0.148858  \n",
      "px_width      -0.000491     -0.002944  0.028948     0.167253  \n",
      "ram            0.015962     -0.029446  0.021687     0.916603  \n",
      "sc_h           0.010718     -0.020023  0.025929     0.022986  \n",
      "sc_w           0.030318      0.012720  0.035423     0.038711  \n",
      "talk_time     -0.042870      0.017196 -0.029504     0.021859  \n",
      "three_g        1.000000      0.015087  0.003156     0.024119  \n",
      "touch_screen   0.015087      1.000000  0.011917    -0.030411  \n",
      "wifi           0.003156      0.011917  1.000000     0.018785  \n",
      "price_range    0.024119     -0.030411  0.018785     1.000000  \n",
      "\n",
      "[21 rows x 21 columns]\n"
     ]
    }
   ],
   "source": [
    "# Display of the correlated values\n",
    "print(correlation_values)"
   ]
  },
  {
   "cell_type": "code",
   "execution_count": 24,
   "metadata": {},
   "outputs": [],
   "source": [
    "# Correlation with Price Range\n",
    "corr_list = correlation_values[\"price_range\"]\n",
    "ordered_corr_list = corr_list.sort_values(ascending=False)"
   ]
  },
  {
   "cell_type": "code",
   "execution_count": 25,
   "metadata": {},
   "outputs": [
    {
     "name": "stdout",
     "output_type": "stream",
     "text": [
      "price_range      1.000000\n",
      "ram              0.916603\n",
      "battery_power    0.200723\n",
      "px_width         0.167253\n",
      "px_height        0.148858\n",
      "int_memory       0.043740\n",
      "sc_w             0.038711\n",
      "pc               0.033599\n",
      "three_g          0.024119\n",
      "sc_h             0.022986\n",
      "fc               0.021998\n",
      "talk_time        0.021859\n",
      "blue             0.020573\n",
      "wifi             0.018785\n",
      "dual_sim         0.017444\n",
      "four_g           0.014772\n",
      "n_cores          0.004399\n",
      "m_dep           -0.001008\n",
      "clock_speed     -0.006606\n",
      "mobile_wt       -0.030302\n",
      "touch_screen    -0.030411\n",
      "Name: price_range, dtype: float64\n"
     ]
    }
   ],
   "source": [
    "# Display of correlated values with price range\n",
    "print(ordered_corr_list)"
   ]
  },
  {
   "cell_type": "markdown",
   "metadata": {},
   "source": [
    "#### Comparing all the above data here \"ram\" has a high positive correlation of 0.917 with the price range. Here also \"mobile_wt\" has a high negative correlation of -0.030 which indicates heavy mobile phones has low price ranges."
   ]
  },
  {
   "cell_type": "code",
   "execution_count": 26,
   "metadata": {},
   "outputs": [],
   "source": [
    "# Choose important features using correlation analysis.\n",
    "selected_features = ['clock_speed', 'dual_sim', 'mobile_wt']\n",
    "X = clean_df[selected_features]\n",
    "y = clean_df['price_range']"
   ]
  },
  {
   "cell_type": "markdown",
   "metadata": {},
   "source": [
    "#### Dataset split"
   ]
  },
  {
   "cell_type": "code",
   "execution_count": 27,
   "metadata": {},
   "outputs": [
    {
     "name": "stdout",
     "output_type": "stream",
     "text": [
      "(1600, 3)\n",
      "(400, 3)\n",
      "(1600,)\n",
      "(400,)\n"
     ]
    }
   ],
   "source": [
    "X_train, X_test, y_train, y_test = train_test_split(X, y, test_size=0.2, random_state=42)\n",
    "print(X_train.shape)\n",
    "print(X_test.shape)\n",
    "print(y_train.shape)\n",
    "print(y_test.shape)"
   ]
  },
  {
   "cell_type": "markdown",
   "metadata": {},
   "source": [
    "#### Logistic Regression\n"
   ]
  },
  {
   "cell_type": "markdown",
   "metadata": {},
   "source": [
    "#### Model creation"
   ]
  },
  {
   "cell_type": "code",
   "execution_count": 28,
   "metadata": {},
   "outputs": [
    {
     "name": "stdout",
     "output_type": "stream",
     "text": [
      "Accuracy on training set: 0.27625\n",
      "Accuracy on test set: 0.2625\n"
     ]
    }
   ],
   "source": [
    "# Initialize the logistic regression model\n",
    "logreg_model = LogisticRegression(max_iter=1000, random_state=42)\n",
    "\n",
    "# Fit the model using the training dataset.\n",
    "logreg_model.fit(X_train, y_train)\n",
    "# Predict the 'price range' on the training set and calculate the accuracy.\n",
    "train_predictions = logreg_model.predict(X_train)\n",
    "train_accuracy = accuracy_score(y_train, train_predictions)\n",
    "\n",
    "# Make predictions for the 'price range' on the test set and compute the accuracy.\n",
    "test_predictions = logreg_model.predict(X_test)\n",
    "test_accuracy = accuracy_score(y_test, test_predictions)\n",
    "\n",
    "# Display the accuracy scores for both the training set and the test set.\n",
    "print(\"Accuracy on training set:\", train_accuracy)\n",
    "print(\"Accuracy on test set:\", test_accuracy)"
   ]
  },
  {
   "cell_type": "markdown",
   "metadata": {},
   "source": [
    "#### KNN Model"
   ]
  },
  {
   "cell_type": "code",
   "execution_count": 29,
   "metadata": {},
   "outputs": [
    {
     "name": "stdout",
     "output_type": "stream",
     "text": [
      "Accuracy on training set: 0.49625\n",
      "Accuracy on test set: 0.2425\n"
     ]
    }
   ],
   "source": [
    "from sklearn.neighbors import KNeighborsClassifier\n",
    "from sklearn.metrics import accuracy_score\n",
    "# Initialize the KNN model with an ad-hoc value for K (e.g., K=5)\n",
    "knn_model = KNeighborsClassifier(n_neighbors=5)\n",
    "\n",
    "# Fit the model using the training dataset.\n",
    "knn_model.fit(X_train, y_train)\n",
    "\n",
    "# Predict the 'price range' on the training set and calculate the accuracy.\n",
    "train_predictions = knn_model.predict(X_train)\n",
    "train_accuracy = accuracy_score(y_train, train_predictions)\n",
    "\n",
    "# Make predictions for the 'price range' on the test set and compute the accuracy.\n",
    "test_predictions = knn_model.predict(X_test)\n",
    "test_accuracy = accuracy_score(y_test, test_predictions)\n",
    "\n",
    "# Display the accuracy scores for both the training set and the test set.\n",
    "print(\"Accuracy on training set:\", train_accuracy)\n",
    "print(\"Accuracy on test set:\", test_accuracy)"
   ]
  },
  {
   "cell_type": "markdown",
   "metadata": {},
   "source": [
    "#### Tunning Grid search"
   ]
  },
  {
   "cell_type": "code",
   "execution_count": 31,
   "metadata": {},
   "outputs": [
    {
     "data": {
      "image/png": "[encoded data removed]",
      "text/plain": [
       "<Figure size 1000x600 with 1 Axes>"
      ]
     },
     "metadata": {},
     "output_type": "display_data"
    },
    {
     "name": "stdout",
     "output_type": "stream",
     "text": [
      "Best K value: 9\n",
      "Mean Accuracy Score with Best K: 0.271875\n"
     ]
    }
   ],
   "source": [
    "\n",
    "import matplotlib.pyplot as plt\n",
    "\n",
    "# Define a range of K values to search\n",
    "k_values = list(range(1, 21))\n",
    "\n",
    "# Define parameter grid for GridSearchCV\n",
    "param_grid = {'n_neighbors': k_values}\n",
    "\n",
    "# Initialize KNN model\n",
    "knn_model = KNeighborsClassifier()\n",
    "\n",
    "# Perform GridSearchCV to find the best K\n",
    "grid_search = GridSearchCV(knn_model, param_grid, cv=5, scoring='accuracy')\n",
    "grid_search.fit(X_train, y_train)\n",
    "\n",
    "# Identify the optimal K value and its associated mean test scores.\n",
    "best_k = grid_search.best_params_['n_neighbors']\n",
    "mean_test_scores = grid_search.cv_results_['mean_test_score']\n",
    "\n",
    "# Create visualizations to represent the results.\n",
    "plt.figure(figsize=(10, 6))\n",
    "plt.plot(k_values, mean_test_scores, marker='o', linestyle='-')\n",
    "plt.title('Mean Accuracy Scores vs. K Value')\n",
    "plt.xlabel('K Value')\n",
    "plt.ylabel('Mean Accuracy Score')\n",
    "plt.xticks(k_values)\n",
    "plt.grid(True)\n",
    "plt.show()\n",
    "\n",
    "# Describe how the choice of K impacts the predictive performance of the model\n",
    "print(\"Best K value:\", best_k)\n",
    "print(\"Mean Accuracy Score with Best K:\", grid_search.best_score_)"
   ]
  },
  {
   "cell_type": "markdown",
   "metadata": {},
   "source": [
    "\r",
    "#### FINDINGS AND INTERPRETATION\n",
    "\n",
    "#### Both logistic regression and K-nearest neighbors (KNN) regression models were employed to train and assess their performance on the Mobile Price dataset for predicting the price range of mobile phones.\n",
    "\n",
    "#### The logistic regression model performed better than the K-nearest neighbors (KNN) model, achieving higher accuracies on both the training and test sets when evaluated using the Mobile Price dataset for predicting mobile phone price ranges.\n",
    "\n",
    "#### The logistic regression model performed better than the K-nearest neighbors (KNN) model in terms of accuracy on both the training and test sets.\n",
    "\n",
    "#### The performance of the K-nearest neighbors (KNN) model could have been influenced by how the value of K was set, potentially leading to either overfitting or underfitting. However, despite these challenges, the KNN model should still have been capable of capturing non-linear relationships between features and the target variable.\r\n"
   ]
  },
  {
   "cell_type": "markdown",
   "metadata": {},
   "source": [
    "#### Strength and weakness "
   ]
  },
  {
   "cell_type": "markdown",
   "metadata": {},
   "source": [
    "##### <b> <li> Strengths of Logistic Regression: </li> </b>\r\n",
    "##### <li> Simplicity and interpretability: </li>The coefficients of the features in logistic regression are easier to interpret and understand.s\r\n",
    "##### <li> Efficient for linearly separable data </li> When the boundary is linear it performs wel.\r\n",
    "\r\n",
    "###### </ol> "
   ]
  },
  {
   "cell_type": "markdown",
   "metadata": {},
   "source": [
    "\r\n",
    "###### <ol> \r\n",
    "##### <b> <li> Weaknesses of Logistic Regression: </li> </b>\r\n",
    "##### <li> Limited flexibilitLogistic regression assumes a linear relationship between features and the target variable, which may limit its ability to capture complex patterns in the data.ns. </li>\r\n",
    "##### <li> Sensitivity to outlieOutliers have the potential to significantly impact the coefficients of a logistic regression model and its predictions.ons. </li>\r\n",
    "\r\n",
    "###### </ol> </ol> "
   ]
  },
  {
   "cell_type": "markdown",
   "metadata": {},
   "source": [
    "\r\n",
    "###### <ol> \r\n",
    "##### <b> <li>Strengths of K-Nearest Neighbours: </li> </b>\r\n",
    "##### <li>Non-parametr Does not impose strong assumptions about the underlying data distribution.on. </li>\r\n",
    "##### <li> Flexibilican capture complex relationships between features and the target variable, making it particularly useful for handling non-linear data.ata. </li>\r\n",
    "###### </ol> "
   ]
  },
  {
   "cell_type": "code",
   "execution_count": null,
   "metadata": {},
   "outputs": [],
   "source": []
  }
 ],
 "metadata": {
  "colab": {
   "provenance": []
  },
  "kernelspec": {
   "display_name": "Python 3 (ipykernel)",
   "language": "python",
   "name": "python3"
  },
  "language_info": {
   "codemirror_mode": {
    "name": "ipython",
    "version": 3
   },
   "file_extension": ".py",
   "mimetype": "text/x-python",
   "name": "python",
   "nbconvert_exporter": "python",
   "pygments_lexer": "ipython3",
   "version": "3.11.7"
  }
 },
 "nbformat": 4,
 "nbformat_minor": 4
}
